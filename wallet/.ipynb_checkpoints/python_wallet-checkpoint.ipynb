{
 "cells": [
  {
   "cell_type": "code",
   "execution_count": 1,
   "id": "2964ac39-f31e-4052-8fcb-8ac600af2ca7",
   "metadata": {},
   "outputs": [],
   "source": [
    "import subprocess\n",
    "import json\n",
    "from dotenv import load_dotenv\n",
    "import os\n",
    "from bit import Key, PrivateKey, PrivateKeyTestnet\n",
    "from bit.network import NetworkAPI\n",
    "from web3 import Web3\n",
    "from eth_account import Account"
   ]
  },
  {
   "cell_type": "code",
   "execution_count": 2,
   "id": "62f560b8-fb81-4ac2-84b8-6f171d65c7fd",
   "metadata": {},
   "outputs": [],
   "source": [
    "load_dotenv()\n",
    "from constants import *\n",
    "w3 = Web3(Web3.HTTPProvider(\"http://127.0.0.1:8545\"))"
   ]
  },
  {
   "cell_type": "code",
   "execution_count": 3,
   "id": "8056ec8d-0469-4288-bff1-321ff5636f06",
   "metadata": {},
   "outputs": [
    {
     "name": "stdout",
     "output_type": "stream",
     "text": [
      "better mystery shallow snack elbow whale abuse heart body obey silk asset\n"
     ]
    }
   ],
   "source": [
    "mnemonic = os.getenv('mnemonic')\n",
    "# print(mnemonic)"
   ]
  },
  {
   "cell_type": "code",
   "execution_count": 4,
   "id": "733f079a-410c-4caa-b5d8-5f73e55159a4",
   "metadata": {},
   "outputs": [],
   "source": [
    "def derive_wallets(mnemonic, coin, numderive):\n",
    "    command = f'php derive -g --mnemonic=\"{mnemonic}\" --numderive={numderive} --coin={coin} --format=json'\n",
    "    p = subprocess.Popen(command,stdout=subprocess.PIPE,shell=True)\n",
    "    (output, err) = p.communicate()\n",
    "    p_status = p.wait()\n",
    "    return json.loads(output)"
   ]
  },
  {
   "cell_type": "code",
   "execution_count": 5,
   "id": "5f965d04-e4c2-4322-a45d-bd9195d7fb8b",
   "metadata": {},
   "outputs": [
    {
     "name": "stdout",
     "output_type": "stream",
     "text": [
      "{\n",
      "    \"btc\": [\n",
      "        {\n",
      "            \"address\": \"1HXE3uQTnEZUmmLtF3DwA8etvDMasTtTWf\",\n",
      "            \"index\": 0,\n",
      "            \"path\": \"m/44'/0'/0'/0/0\",\n",
      "            \"privkey\": \"L5UYexkSVa9vroE2usKfzosuzJQdtqefFDcfdZkapdL1SoUKMYxU\",\n",
      "            \"pubkey\": \"02a3f7407825d6cae3f360a1c29b79fb3651b8acc3d7be7855cbf9fb022322ad32\",\n",
      "            \"pubkeyhash\": \"b5396291bcb0936e593009cd789a7c263a6d12c2\",\n",
      "            \"xprv\": \"xprvA2xW13ZtH8XMgjT5D1DQxJhZVrR1PxcDu8pnjDQkoKcg8f2FepD2Kygisu5KsSWq7wJR3u62nxcsvHFd5nyGKbdbxacLdB3nW4A7d7X98q9\",\n",
      "            \"xpub\": \"xpub6FwrQZ6n7W5euDXYK2kRKSeJ3tFVoRL5GMkPXbpNMf9f1TMQCMXGsn1Cj9UpQ6rYSFmxHaGirYdkufCiD6CwNAmTkG3dyTohoeYMjd2Pszd\"\n",
      "        },\n",
      "        {\n",
      "            \"address\": \"1JPgRZq8J4thtoAdiCnnd3w9ps13GKuLWw\",\n",
      "            \"index\": 1,\n",
      "            \"path\": \"m/44'/0'/0'/0/1\",\n",
      "            \"privkey\": \"L5D82eCQHY7kbqnJK7M4TJbUagS9ji9gL9D5Egskg8bEmwhtHMK1\",\n",
      "            \"pubkey\": \"0283d6f98ca30227695e758c47f8938dfc6d90951886e0521c96a6298dc845e556\",\n",
      "            \"pubkeyhash\": \"bec432d7f46342e587fb92a1b575253434fd82f3\",\n",
      "            \"xprv\": \"xprvA2xW13ZtH8XMkRiYBRvm8ARVohyuawmLL14hRi8Q6SnitMDrnNgLUT9o8yhUtqE1aRyrChio9kEmGjMNxvB56a491YKMcMVKin2GhbMzsfy\",\n",
      "            \"xpub\": \"xpub6FwrQZ6n7W5exuo1HTTmVJNEMjpPzQVBhDzJE6Y1enKhm9Z1Kuzb2FUGzDvKVcjvZ6e7uTzW8XQGk6yufAwy6oPKuxkePQFm5twPrPbEtQo\"\n",
      "        },\n",
      "        {\n",
      "            \"address\": \"1HZYDiNYKarZDd8H2XxHtTekxnAEHMZvg3\",\n",
      "            \"index\": 2,\n",
      "            \"path\": \"m/44'/0'/0'/0/2\",\n",
      "            \"privkey\": \"L4bVC2vbWvUpUuUJivDLuDVYeaew25iDHmq7ACy5dh5yFtKjUvny\",\n",
      "            \"pubkey\": \"0283e33398e25132a7e3c4a297220696792a488597687aa5e6ab3527cc153d61c9\",\n",
      "            \"pubkeyhash\": \"b5a96240014a11e5a19a92131379e75b1a246768\",\n",
      "            \"xprv\": \"xprvA2xW13ZtH8XMoQL5kanSJLF4MxcxpSsw2kUkJFC3Pv4Vj2BdFv1pytG5L88BUH1TpkprH5BZbZdkLtFiuehNLt9UTH6ZPNC9bWNWCpm4E74\",\n",
      "            \"xpub\": \"xpub6FwrQZ6n7W5f1tQYrcKSfUBnuzTTDubnPyQM6dbexFbUbpWmoTL5XgaZBNV7ZN72ELh7keVuS7NgwRy8GnjSH9BckTd1JRgQMC7kh5JYn83\"\n",
      "        }\n",
      "    ],\n",
      "    \"btc-test\": [\n",
      "        {\n",
      "            \"address\": \"mjpctU3pUt7zGGRTc8XY4ZXEU8xEGjNMSk\",\n",
      "            \"index\": 0,\n",
      "            \"path\": \"m/44'/1'/0'/0/0\",\n",
      "            \"privkey\": \"cMqo5ku7h4XUWgLqEyje9hRAQ2H5LBA2bxVGnPM25CTxYUx43XXH\",\n",
      "            \"pubkey\": \"0331887a38ac101718539349b9556fedc3e241a65b9667d622a0e1269ee16e7d6d\",\n",
      "            \"pubkeyhash\": \"2f37ca63227db7ee753b5f29ac278af6b57293ad\",\n",
      "            \"xprv\": \"tprv8kvuDWzAPFFYUqsMwXhBU3u7oL31qVRjG7Bmb9QjLZRknhsA5a624CaEzbGc5Zbi4BZHmo541tZyRWXpxYb6emttMmMEsq6FQaapypNDrev\",\n",
      "            \"xpub\": \"tpubDHcwMw2QXcwDNJu9qBMmsTZENMYwzpcdqQnYsfT2kqE9dC7vhxucEhC7AkUe8iLMaf1usy61p6Au6Z9CczUpXxbanCmTzqss2DJPSG5oCe3\"\n",
      "        },\n",
      "        {\n",
      "            \"address\": \"n2KvfSVmdaF7exQg1NrayDHUocSpaszbfb\",\n",
      "            \"index\": 1,\n",
      "            \"path\": \"m/44'/1'/0'/0/1\",\n",
      "            \"privkey\": \"cRA9jDmEXdQjzeEvDxuT5Vc6X93AkAEjVLv5udDmE7mmhvDyWu9Z\",\n",
      "            \"pubkey\": \"031af599c7cf7eafd54ddfd33699a486a450386efee21e329f55370767e31b75c3\",\n",
      "            \"pubkeyhash\": \"e444b444223302f140bae71b1a5e4614bfdb957c\",\n",
      "            \"xprv\": \"tprv8kvuDWzAPFFYWC76ZEsoKTeS6LaFbmS5jcDkQY8WjLcfN44c2ichQEp7FsuJZgiNavBh8LbqHYf8FWoAMcCtvuoFvNfsqd3YMKZLyE879YA\",\n",
      "            \"xpub\": \"tpubDHcwMw2QXcwDPf8tStYPisJYfN6Bm6czJupXh4Ap9cR4CYKNf7SHajRyS2BpKpRCfFHsWNV3oAzbG21E2h81GJKbsAt915iVUSW48YfWZhZ\"\n",
      "        },\n",
      "        {\n",
      "            \"address\": \"n4YbosBiRGiAuogEksGnwYLSUX5MXwu5Fd\",\n",
      "            \"index\": 2,\n",
      "            \"path\": \"m/44'/1'/0'/0/2\",\n",
      "            \"privkey\": \"cPrM9H5S1rhXacYoFxthSV9Qs4QwnxDJNmwcYrxogLgwmiwmKXL5\",\n",
      "            \"pubkey\": \"02a79918269f150221e78af25768274f182748f76f051f894ec02150885973d1a1\",\n",
      "            \"pubkeyhash\": \"fc9a9fc4fd4845fa4c4363f167acfdf4e70e5682\",\n",
      "            \"xprv\": \"tprv8kvuDWzAPFFYXqxgBdxsUAExWtpsQV9vnpdubfpNzZsGvBeMhqYtdwvrMeYyUfpmXwvvRcFeGdQcZUhx5VGUttC96RDpLfxugSDYKFRoiVe\",\n",
      "            \"xpub\": \"tpubDHcwMw2QXcwDRJzU5HdTsZu55vLoZpLqN8EgtBrgQqffkfu8LENUpSYiXnFrb8JVd7vwPN66VGFtknUohyx2QU7jpkeE1w1oeRhpDESyAwU\"\n",
      "        }\n",
      "    ],\n",
      "    \"eth\": [\n",
      "        {\n",
      "            \"address\": \"0x4F2489075E877429Cd0b8Aa44aE9E83309d8c1D8\",\n",
      "            \"index\": 0,\n",
      "            \"path\": \"m/44'/60'/0'/0/0\",\n",
      "            \"privkey\": \"0xcb6e419dc87313939d08dccbdb0bffb10234dae025f66a992355d28cc8478dfe\",\n",
      "            \"pubkey\": \"037593522e694866b4e7e88204684aad52590cf0812802cea0e0598fdf7a396656\",\n",
      "            \"pubkeyhash\": \"1c7832e4ed27924dd4713c8fcba12aed08642be1\",\n",
      "            \"xprv\": \"xprvA2Rwogjnwo2KunD3GruraqUd9aLmjkzZX1H8gismgsFtN9hEYDnjD8a6GF35qPtgeyvNPfjWzXLUhdPKRLz1titTcN7mMYPHP1tzA37wG2A\",\n",
      "            \"xpub\": \"xpub6FRJDCGgnAad8GHWNtSrwyRMhcBG9DiQtECjV7HPFCnsEx2P5m6ykvta7XMnQ17sibJXbGZgdfazgcJdxp7jy7E7Lo3SMd9cnGMnsDjfD2k\"\n",
      "        },\n",
      "        {\n",
      "            \"address\": \"0xfD6E926A0018c0e4897f6e222E580998AAa09539\",\n",
      "            \"index\": 1,\n",
      "            \"path\": \"m/44'/60'/0'/0/1\",\n",
      "            \"privkey\": \"0x8ec806e550c629c1c89ff8c5d92c2ac743d6f647734673fa39d791db34f9f8b8\",\n",
      "            \"pubkey\": \"031abbbe4af375cb46a1a9083c0032916512bd0dee316cfd2b1676c035ea02c7bd\",\n",
      "            \"pubkeyhash\": \"a4d83f56e017bedae9dd33a0026b8f3611046cbd\",\n",
      "            \"xprv\": \"xprvA2Rwogjnwo2KyFbqKqVtnomC56LF8mp6em4Upj8KT6deByb5CiJAvNxPgknvgVay7gcEbMJBLhsV4McSPyL7iz8vFwsqJvjiDF95ja6jxt3\",\n",
      "            \"xpub\": \"xpub6FRJDCGgnAadBjgJRs2u9whvd8AjYEXx1yz5d7Xw1SAd4mvDkFcRUBGsY2tL1YdJMg1KNsGRjeY2uxHERmVxbjqUteawoTnwicpNp6HdzSb\"\n",
      "        },\n",
      "        {\n",
      "            \"address\": \"0x332c95CF3393a4a787f8cE4C4aa9D04D95DFa87E\",\n",
      "            \"index\": 2,\n",
      "            \"path\": \"m/44'/60'/0'/0/2\",\n",
      "            \"privkey\": \"0x1e5e22e69a8e4e5fd506d599b179699d20d476017dae945d18e6827a63920d55\",\n",
      "            \"pubkey\": \"02a62c40a81c4e42a0e7f6a96661ab01dcf3cd395539258f6d62e88646a61985d7\",\n",
      "            \"pubkeyhash\": \"971063b59cfeb13e806b6da33250a5788fd1e41b\",\n",
      "            \"xprv\": \"xprvA2Rwogjnwo2L1pAosvsz5PL7dZ5Xx9cA1422DRkv8eZRCFDq2aU4nJCjUvQRTTQTGu2WiM6k42xVDKMifseTJxXDSmyb7UNBbUK3Hk34PVj\",\n",
      "            \"xpub\": \"xpub6FRJDCGgnAadEJFGyxQzSXGrBav2McL1NGwd1pAXgz6Q53Yya7nKL6XDLCTzrn8T7391DzrpiS85MGZyfgd9kPjb4LFmCRSdpa9tBzo3224\"\n",
      "        }\n",
      "    ]\n",
      "}\n"
     ]
    }
   ],
   "source": [
    "coins = {'btc': derive_wallets(mnemonic=mnemonic,coin=BTC,numderive=3),'eth':derive_wallets(mnemonic=mnemonic,coin=ETH,numderive=3),'btc-test': derive_wallets(mnemonic=mnemonic,coin=BTCTEST,numderive=3)}\n",
    "# print(json.dumps(coins, indent=4, sort_keys=True))"
   ]
  },
  {
   "cell_type": "code",
   "execution_count": 6,
   "id": "153bb70d-f351-49f2-8d7d-06ca5e05465b",
   "metadata": {},
   "outputs": [
    {
     "name": "stdout",
     "output_type": "stream",
     "text": [
      "L5UYexkSVa9vroE2usKfzosuzJQdtqefFDcfdZkapdL1SoUKMYxU\n",
      "0xcb6e419dc87313939d08dccbdb0bffb10234dae025f66a992355d28cc8478dfe\n",
      "cMqo5ku7h4XUWgLqEyje9hRAQ2H5LBA2bxVGnPM25CTxYUx43XXH\n"
     ]
    }
   ],
   "source": [
    "btc_key = coins['btc'][0]['privkey']\n",
    "eth_key = coins['eth'][0]['privkey']\n",
    "btctest_key = coins['btc-test'][0]['privkey']\n",
    "# print(btc_key)\n",
    "# print(eth_key)\n",
    "# print(btctest_key)"
   ]
  },
  {
   "cell_type": "code",
   "execution_count": 7,
   "id": "3903df80-a429-41c7-ba48-02e9c13aad08",
   "metadata": {},
   "outputs": [
    {
     "name": "stdout",
     "output_type": "stream",
     "text": [
      "1JPgRZq8J4thtoAdiCnnd3w9ps13GKuLWw\n",
      "0xfD6E926A0018c0e4897f6e222E580998AAa09539\n",
      "n2KvfSVmdaF7exQg1NrayDHUocSpaszbfb\n"
     ]
    }
   ],
   "source": [
    "btc_recipient = coins['btc'][1]['address']\n",
    "eth_recipient = coins['eth'][1]['address']\n",
    "btctest_recipient = coins['btc-test'][1]['address']\n",
    "# print(btc_recipient)\n",
    "# print(eth_recipient)\n",
    "# print(btctest_recipient)"
   ]
  },
  {
   "cell_type": "code",
   "execution_count": 8,
   "id": "75ce3b6c-1da7-44a2-8e17-a7a8c5ed6f69",
   "metadata": {},
   "outputs": [],
   "source": [
    "def priv_key_to_account(coin, priv_key):\n",
    "    global account\n",
    "    if coin == 'eth':\n",
    "        account=Account.privateKeyToAccount(priv_key)\n",
    "    else:\n",
    "        account=PrivateKeyTestnet(priv_key)\n",
    "    return account"
   ]
  },
  {
   "cell_type": "code",
   "execution_count": 9,
   "id": "e43edbee-7a8c-49a0-9f7a-7f433df065b3",
   "metadata": {},
   "outputs": [
    {
     "data": {
      "text/plain": [
       "<eth_account.signers.local.LocalAccount at 0x1c2c4c16388>"
      ]
     },
     "execution_count": 9,
     "metadata": {},
     "output_type": "execute_result"
    }
   ],
   "source": [
    "priv_key_to_account(ETH,eth_key)"
   ]
  },
  {
   "cell_type": "code",
   "execution_count": 10,
   "id": "677501f0-5987-4ba7-890f-7f272b46548e",
   "metadata": {},
   "outputs": [
    {
     "name": "stdout",
     "output_type": "stream",
     "text": [
      "0x4F2489075E877429Cd0b8Aa44aE9E83309d8c1D8\n"
     ]
    }
   ],
   "source": [
    "eth_add = coins['eth'][0]['address']\n",
    "# print(eth_add)"
   ]
  },
  {
   "cell_type": "code",
   "execution_count": 11,
   "id": "4d0233ca-a769-49be-b574-a1e522fd7532",
   "metadata": {},
   "outputs": [
    {
     "data": {
      "text/plain": [
       "<PrivateKeyTestnet: mjpctU3pUt7zGGRTc8XY4ZXEU8xEGjNMSk>"
      ]
     },
     "execution_count": 11,
     "metadata": {},
     "output_type": "execute_result"
    }
   ],
   "source": [
    "priv_key_to_account(BTCTEST,btctest_key)"
   ]
  },
  {
   "cell_type": "code",
   "execution_count": 12,
   "id": "52349395-02b3-4734-9f1b-3a8cddb00f35",
   "metadata": {},
   "outputs": [],
   "source": [
    "def create_tx(coin,account,recipient,amount):\n",
    "    global tx_data\n",
    "    if coin =='eth':\n",
    "        gasEstimate = w3.eth.estimateGas(\n",
    "#             {\"from\": account.address, \"to\": recipient, \"value\": amount}\n",
    "            {\"from\": eth_add, \"to\": eth_recipient, \"value\": amount}\n",
    "        )\n",
    "        tx_data= {\n",
    "#             \"from\": account.address,\n",
    "            \"from\": eth_add,\n",
    "            \"to\": eth_recipient,\n",
    "            \"value\": amount,\n",
    "            \"gasPrice\": w3.eth.gasPrice,\n",
    "            \"gas\": gasEstimate,\n",
    "            \"nonce\": w3.eth.getTransactionCount(eth_add),\n",
    "        }\n",
    "        return tx_data\n",
    "    else:\n",
    "        tx_data = PrivateKeyTestnet.prepare_transaction(account.address, [(btctest_recipient, amount, BTC)])\n",
    "        return tx_data"
   ]
  },
  {
   "cell_type": "code",
   "execution_count": 13,
   "id": "7ac3f32f-692f-490d-8aed-841b339b1e3a",
   "metadata": {},
   "outputs": [
    {
     "data": {
      "text/plain": [
       "'{\"unspents\":[{\"amount\":1459787,\"confirmations\":0,\"script\":\"76a9142f37ca63227db7ee753b5f29ac278af6b57293ad88ac\",\"txid\":\"72bb050e548cb1ae7d7540c6debaeedcf8cc29715a6f4e24a20009738091b764\",\"txindex\":1,\"type\":\"p2pkh\",\"vsize\":148,\"segwit\":false,\"sequence\":4294967295}],\"outputs\":[[\"n2KvfSVmdaF7exQg1NrayDHUocSpaszbfb\",10000],[\"mjpctU3pUt7zGGRTc8XY4ZXEU8xEGjNMSk\",1426735]]}'"
      ]
     },
     "execution_count": 13,
     "metadata": {},
     "output_type": "execute_result"
    }
   ],
   "source": [
    "create_tx(BTCTEST,account,btctest_recipient,0.0001)"
   ]
  },
  {
   "cell_type": "code",
   "execution_count": 14,
   "id": "906a68f5-f4d0-4246-8c01-a0c798320326",
   "metadata": {
    "tags": []
   },
   "outputs": [
    {
     "data": {
      "text/plain": [
       "{'from': '0x4F2489075E877429Cd0b8Aa44aE9E83309d8c1D8',\n",
       " 'to': '0xfD6E926A0018c0e4897f6e222E580998AAa09539',\n",
       " 'value': 1,\n",
       " 'gasPrice': 20000000000,\n",
       " 'gas': 21000,\n",
       " 'nonce': 0}"
      ]
     },
     "execution_count": 14,
     "metadata": {},
     "output_type": "execute_result"
    }
   ],
   "source": [
    "create_tx(ETH,account,eth_recipient,1)"
   ]
  },
  {
   "cell_type": "code",
   "execution_count": 15,
   "id": "fb609ac6-ecf3-4339-9a7e-64ee56676099",
   "metadata": {},
   "outputs": [],
   "source": [
    "def send_tx(coin, account, recipient, amount):\n",
    "    if coin == ETH:\n",
    "        tx = create_tx(coin,account, recipient, amount)\n",
    "        signed_tx = account.sign_transaction(tx)\n",
    "        result = w3.eth.sendRawTransaction(signed_tx.rawTransaction)\n",
    "        print(result.hex())\n",
    "        return result.hex()\n",
    "    else:\n",
    "        tx_data = create_tx(coin,account,recipient,amount)\n",
    "        signed = account.sign_transaction(tx_data)\n",
    "        NetworkAPI.broadcast_tx_testnet(signed)\n",
    "        return signed"
   ]
  },
  {
   "cell_type": "code",
   "execution_count": 16,
   "id": "0ee4cfb0-4d18-4ff4-ab2e-38e20de66e28",
   "metadata": {},
   "outputs": [
    {
     "data": {
      "text/plain": [
       "'010000000164b79180730900a2244e6f5a7129ccf8dceebadec640757daeb18c540e05bb72010000006b483045022100e897efe9e1f2213e2f0d2f00d722a5bc0785ee0937250f35aeeafd9a5c48b2b102202b9a2ab42ffff10da81dc72629bd88dabd63468e649dfa8b5853da0ec9f813f001210331887a38ac101718539349b9556fedc3e241a65b9667d622a0e1269ee16e7d6dffffffff0210270000000000001976a914e444b444223302f140bae71b1a5e4614bfdb957c88ac2fc51500000000001976a9142f37ca63227db7ee753b5f29ac278af6b57293ad88ac00000000'"
      ]
     },
     "execution_count": 16,
     "metadata": {},
     "output_type": "execute_result"
    }
   ],
   "source": [
    "send_tx(BTCTEST,account,'btctest_recipient',0.0001)"
   ]
  },
  {
   "cell_type": "code",
   "execution_count": 17,
   "id": "f1252aee-11ba-4189-b251-d3d059731f3b",
   "metadata": {},
   "outputs": [
    {
     "data": {
      "text/plain": [
       "<PrivateKeyTestnet: mjpctU3pUt7zGGRTc8XY4ZXEU8xEGjNMSk>"
      ]
     },
     "execution_count": 17,
     "metadata": {},
     "output_type": "execute_result"
    }
   ],
   "source": [
    "# account"
   ]
  },
  {
   "cell_type": "code",
   "execution_count": 18,
   "id": "8df936d3-0634-4e0f-a8c4-70f16a228e24",
   "metadata": {},
   "outputs": [
    {
     "name": "stdout",
     "output_type": "stream",
     "text": [
      "0x4F2489075E877429Cd0b8Aa44aE9E83309d8c1D8\n",
      "0xfD6E926A0018c0e4897f6e222E580998AAa09539\n"
     ]
    }
   ],
   "source": [
    "# print(eth_add)\n",
    "# print(eth_recipient)"
   ]
  },
  {
   "cell_type": "code",
   "execution_count": 19,
   "id": "3c386697-ac5a-48ba-967f-b46e0305e8de",
   "metadata": {},
   "outputs": [],
   "source": [
    "# send_tx(ETH,eth_add,'0xfD6E926A0018c0e4897f6e222E580998AAa09539',1)\n",
    "# send_tx(ETH,account,eth_recipient,1)\n",
    "# send_tx(ETH,eth_add,eth_recipient,1)\n"
   ]
  },
  {
   "cell_type": "code",
   "execution_count": null,
   "id": "c13e1133-2b6b-4690-8d86-42a981f91d05",
   "metadata": {},
   "outputs": [],
   "source": []
  }
 ],
 "metadata": {
  "kernelspec": {
   "display_name": "Python [conda env:ethereum]",
   "language": "python",
   "name": "conda-env-ethereum-py"
  },
  "language_info": {
   "codemirror_mode": {
    "name": "ipython",
    "version": 3
   },
   "file_extension": ".py",
   "mimetype": "text/x-python",
   "name": "python",
   "nbconvert_exporter": "python",
   "pygments_lexer": "ipython3",
   "version": "3.7.10"
  }
 },
 "nbformat": 4,
 "nbformat_minor": 5
}
