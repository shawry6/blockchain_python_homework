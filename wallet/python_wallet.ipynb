{
 "cells": [
  {
   "cell_type": "code",
   "execution_count": 1,
   "id": "2964ac39-f31e-4052-8fcb-8ac600af2ca7",
   "metadata": {},
   "outputs": [],
   "source": [
    "# Import dependencies\n",
    "import subprocess\n",
    "import json\n",
    "import os\n",
    "\n",
    "# Load and set environment variables\n",
    "from dotenv import load_dotenv\n",
    "load_dotenv()\n",
    "from constants import *\n",
    "from pprint import pprint\n",
    "\n",
    "# Import constants.py and necessary functions from bit and web3\n",
    "# YOUR CODE HERE\n",
    "# bit\n",
    "from bit import PrivateKeyTestnet\n",
    "from bit.network import NetworkAPI\n",
    "from bit import wif_to_key\n",
    "# Web3 \n",
    "from web3 import Web3, middleware, Account\n",
    "from web3.gas_strategies.time_based import medium_gas_price_strategy\n",
    "from web3.middleware import geth_poa_middleware\n",
    "from eth_account import Account\n",
    "w3 = Web3(Web3.HTTPProvider(\"http://127.0.0.1:7545\"))\n",
    "w3.middleware_onion.inject(geth_poa_middleware, layer=0)\n",
    "w3.eth.setGasPriceStrategy(medium_gas_price_strategy)"
   ]
  },
  {
   "cell_type": "code",
   "execution_count": 2,
   "id": "62f560b8-fb81-4ac2-84b8-6f171d65c7fd",
   "metadata": {},
   "outputs": [
    {
     "name": "stdout",
     "output_type": "stream",
     "text": [
      "loop swift enlist village say smile steel axis title reduce airport measure\n"
     ]
    }
   ],
   "source": [
    "# Configure mnemonic via .env\n",
    "mnemonic = os.getenv('mnemonic')\n",
    "print(mnemonic)"
   ]
  },
  {
   "cell_type": "code",
   "execution_count": 3,
   "id": "912c41d1-742e-4263-b2bd-de8117bc631f",
   "metadata": {},
   "outputs": [],
   "source": [
    "# Enter private key of the bip39 address\n",
    "key = wif_to_key(\"L5UYexkSVa9vroE2usKfzosuzJQdtqefFDcfdZkapdL1SoUKMYxU\")"
   ]
  },
  {
   "cell_type": "code",
   "execution_count": 4,
   "id": "8056ec8d-0469-4288-bff1-321ff5636f06",
   "metadata": {},
   "outputs": [
    {
     "name": "stdout",
     "output_type": "stream",
     "text": [
      "0\n",
      "0\n",
      "0\n",
      "----------------\n",
      "[]\n"
     ]
    }
   ],
   "source": [
    "print(key.get_balance('btc'))\n",
    "print(key.get_balance('usd'))\n",
    "print(key.get_balance('aud'))\n",
    "\n",
    "print('----------------')\n",
    "print(key.get_unspents())"
   ]
  },
  {
   "cell_type": "code",
   "execution_count": 5,
   "id": "733f079a-410c-4caa-b5d8-5f73e55159a4",
   "metadata": {},
   "outputs": [],
   "source": [
    "# Create a function called `derive_wallets`\n",
    "def derive_wallets(mnemonic, coin, numderive):\n",
    "    command = f'php ./derive -g --mnemonic=\"{mnemonic}\" --cols=all --numderive={numderive} --coin={coin} --format=json'\n",
    "    p = subprocess.Popen(command,stdout=subprocess.PIPE,shell=True)\n",
    "    (output, err) = p.communicate()\n",
    "    p_status = p.wait() # this was in our class code but I didn't find a use for it in this file\n",
    "    return json.loads(output)"
   ]
  },
  {
   "cell_type": "code",
   "execution_count": 22,
   "id": "5f965d04-e4c2-4322-a45d-bd9195d7fb8b",
   "metadata": {},
   "outputs": [],
   "source": [
    "# Create a dictionary object called coins to store the output from `derive_wallets`.\n",
    "# YOUR CODE HERE\n",
    "coins = {\n",
    "    BTC: derive_wallets(mnemonic,BTC,3),\n",
    "    ETH:derive_wallets(mnemonic,ETH,3),\n",
    "    BTCTEST: derive_wallets(mnemonic,BTCTEST,3)\n",
    "}\n",
    "# print(json.dumps(coins, indent=2, sort_keys=True))"
   ]
  },
  {
   "cell_type": "code",
   "execution_count": 7,
   "id": "153bb70d-f351-49f2-8d7d-06ca5e05465b",
   "metadata": {},
   "outputs": [],
   "source": [
    "# btc_key = coins['btc'][0]['privkey']\n",
    "# eth_key = coins['eth'][0]['privkey']\n",
    "# btctest_key = coins['btc-test'][0]['privkey']\n",
    "# # print(btc_key)\n",
    "# # print(eth_key)\n",
    "# # print(btctest_key)"
   ]
  },
  {
   "cell_type": "code",
   "execution_count": 8,
   "id": "3903df80-a429-41c7-ba48-02e9c13aad08",
   "metadata": {},
   "outputs": [],
   "source": [
    "# btc_recipient = coins['btc'][1]['address']\n",
    "# eth_recipient = coins['eth'][1]['address']\n",
    "# btctest_recipient = coins['btc-test'][1]['address']\n",
    "# # print(btc_recipient)\n",
    "# # print(eth_recipient)\n",
    "# # print(btctest_recipient)"
   ]
  },
  {
   "cell_type": "code",
   "execution_count": 9,
   "id": "75ce3b6c-1da7-44a2-8e17-a7a8c5ed6f69",
   "metadata": {},
   "outputs": [],
   "source": [
    "# Create a function called `priv_key_to_account` that converts privkey strings to account objects.\n",
    "    # YOUR CODE HERE\n",
    "def priv_key_to_account(coin, priv_key):\n",
    "    if coin == ETH:\n",
    "        return Account.privateKeyToAccount(priv_key)\n",
    "    if coin == BTCTEST: \n",
    "        return PrivateKeyTestnet(priv_key)\n",
    "#      if coin == BTC: \n",
    "#         return PrivateKey(priv_key)\n",
    "#     else:\n",
    "#         return PrivateKeyTestnet(priv_key) "
   ]
  },
  {
   "cell_type": "code",
   "execution_count": 10,
   "id": "e43edbee-7a8c-49a0-9f7a-7f433df065b3",
   "metadata": {},
   "outputs": [],
   "source": [
    "# eth_key = coins[ETH][0]['privkey']\n",
    "# priv_key_to_account(ETH, eth_key)"
   ]
  },
  {
   "cell_type": "code",
   "execution_count": 11,
   "id": "677501f0-5987-4ba7-890f-7f272b46548e",
   "metadata": {},
   "outputs": [],
   "source": [
    "# eth_add = coins['eth'][0]['address']\n",
    "# print(eth_add)"
   ]
  },
  {
   "cell_type": "code",
   "execution_count": 12,
   "id": "4d0233ca-a769-49be-b574-a1e522fd7532",
   "metadata": {},
   "outputs": [],
   "source": [
    "# priv_key_to_account(BTCTEST,btctest_key)"
   ]
  },
  {
   "cell_type": "code",
   "execution_count": 13,
   "id": "52349395-02b3-4734-9f1b-3a8cddb00f35",
   "metadata": {},
   "outputs": [],
   "source": [
    "# Create a function called `create_tx` that creates an unsigned transaction appropriate metadata.\n",
    "    # YOUR CODE HERE\n",
    "def create_tx(coin,account,recipient,amount):\n",
    "    if coin == ETH:\n",
    "        value = w3.toWei(amount, \"ether\")\n",
    "        gasEstimate = w3.eth.estimateGas(\n",
    "            {\"from\": account, \"to\": recipient, \"amount\": value}\n",
    "        )\n",
    "        return {\n",
    "            \"from\": address,\n",
    "            \"to\": recipient,\n",
    "            \"value\": value,\n",
    "            \"gasPrice\": w3.eth.gasPrice,\n",
    "            \"gas\": gasEstimate,\n",
    "            \"nonce\": w3.eth.getTransactionCount(account),\n",
    "            \"chainId\": w3.eth.chain_id,\n",
    "        }\n",
    "    \n",
    "    else:\n",
    "        return PrivateKeyTestnet.prepare_transaction(account.address, [(recipient, amount, BTC)])"
   ]
  },
  {
   "cell_type": "code",
   "execution_count": 14,
   "id": "7ac3f32f-692f-490d-8aed-841b339b1e3a",
   "metadata": {},
   "outputs": [],
   "source": [
    "# create_tx(BTCTEST,account,btctest_recipient,0.0001)"
   ]
  },
  {
   "cell_type": "code",
   "execution_count": 15,
   "id": "906a68f5-f4d0-4246-8c01-a0c798320326",
   "metadata": {
    "tags": []
   },
   "outputs": [],
   "source": [
    "# create_tx(ETH,account,eth_recipient,1)"
   ]
  },
  {
   "cell_type": "code",
   "execution_count": 16,
   "id": "fb609ac6-ecf3-4339-9a7e-64ee56676099",
   "metadata": {},
   "outputs": [],
   "source": [
    "# Create a function called `send_tx` that calls `create_tx`, signs and sends the transaction.\n",
    "    # YOUR CODE HERE\n",
    "def send_tx(coin, account, recipient, amount):\n",
    "    if coin == ETH:\n",
    "        raw_tx = create_tx(coin, account, recipient, amount)\n",
    "        signed_tx = account.sign_transaction(raw_tx)\n",
    "        return w3.eth.sendRawTransaction(signed_tx.rawTransaction)\n",
    "#         print(result.hex())\n",
    "#         return result.hex()\n",
    "    else:\n",
    "        raw_tx = create_tx(coin, account, recipient, amount)\n",
    "        signed_tx = account.sign_transaction(raw_tx)\n",
    "        return NetworkAPI.broadcast_tx_testnet(signed_tx)"
   ]
  },
  {
   "cell_type": "code",
   "execution_count": 17,
   "id": "0ee4cfb0-4d18-4ff4-ab2e-38e20de66e28",
   "metadata": {},
   "outputs": [],
   "source": [
    "# send_tx(BTCTEST,account,'btctest_recipient',0.0001)"
   ]
  },
  {
   "cell_type": "code",
   "execution_count": 18,
   "id": "f1252aee-11ba-4189-b251-d3d059731f3b",
   "metadata": {},
   "outputs": [],
   "source": [
    "# account"
   ]
  },
  {
   "cell_type": "code",
   "execution_count": 19,
   "id": "8df936d3-0634-4e0f-a8c4-70f16a228e24",
   "metadata": {},
   "outputs": [],
   "source": [
    "# print(eth_add)\n",
    "# print(eth_recipient)"
   ]
  },
  {
   "cell_type": "code",
   "execution_count": 20,
   "id": "3c386697-ac5a-48ba-967f-b46e0305e8de",
   "metadata": {},
   "outputs": [],
   "source": [
    "# send_tx(ETH,eth_add,'0xfD6E926A0018c0e4897f6e222E580998AAa09539',1)\n",
    "# send_tx(ETH,account,eth_recipient,1)\n",
    "# send_tx(ETH,eth_add,eth_recipient,1)\n"
   ]
  },
  {
   "cell_type": "code",
   "execution_count": 21,
   "id": "c13e1133-2b6b-4690-8d86-42a981f91d05",
   "metadata": {},
   "outputs": [
    {
     "name": "stdout",
     "output_type": "stream",
     "text": [
      "{'btc': [{'address': '1261Wc8oPAjtMG6JpMEruu3LgehjhkAwnW',\n",
      "          'index': 0,\n",
      "          'path': \"m/44'/0'/0'/0/0\",\n",
      "          'privkey': 'KzJkniMZTfvcNqRGUfPyPKJYVJWcXnA9GZWgd3dD4ezLSB5vqrCo',\n",
      "          'pubkey': '021af871df6d1a5d6dc963b3d531485b9ac782057583792fc73f119eed564982dc',\n",
      "          'pubkeyhash': '0beaa1b671c51ef7d39cd1553867951f066cf15d',\n",
      "          'xprv': 'xprvA3TnPRTocN1L53ox2szbsUKSbvCb6j3DTLPcK9rh9GWnxUFcudfEzzDscqvkARrxeM47SR4pPza3stL73EydPmsUb1AoFD5yUhKTLzFFcD3',\n",
      "          'xpub': 'xpub6GT8nvzhSjZdHXtR8uXcEcGB9x35WBm4pZKD7YGJhc3mqGamTAyVYnYMU6TpmX93csmNMnjmAVySk8TPcjuyfbjNDQRQ8YHWDaqx2Hcuvvc'},\n",
      "         {'address': '1NAhfu2gjTA9R6UcVJtMEhSoNEFQnr7gL6',\n",
      "          'index': 1,\n",
      "          'path': \"m/44'/0'/0'/0/1\",\n",
      "          'privkey': 'L32uNY8gwegXpMjVW4SnMJF4vg9QErfFGzukHziEED8ZbPY6xyud',\n",
      "          'pubkey': '036409be8d55c261b8aa6aaefe3a0d14e65fb5135be4e00e77db8603200e199dd8',\n",
      "          'pubkeyhash': 'e83055d345dcf88e4c5703daa09e8f8c7b5c7438',\n",
      "          'xprv': 'xprvA3TnPRTocN1L73rLciAfGxAfW1VxrgAhSnzKVizYJvK8wXhSkPVNbD8KuiD7Myiq43hetJyBqGnSPfJJ6DEPieJxZr4Lvn5MssJPzENZBM1',\n",
      "          'xpub': 'xpub6GT8nvzhSjZdKXvoijhfe67Q43LTG8tYp1uvJ7Q9sFr7pL2bHvod91SokzdHPnkxWzZdAe4eCLpVzp5s1z8KyS2q2XdRLm6zy2vKTytYdJP'},\n",
      "         {'address': '1LSSUaL8XqMABtBcE3bhdFZFYYBAsDXTch',\n",
      "          'index': 2,\n",
      "          'path': \"m/44'/0'/0'/0/2\",\n",
      "          'privkey': 'L3uynFeQug1pAEjzF9VdPF4Rx6Yaf9JuB2LyYhz4gYpN5GZrbiNm',\n",
      "          'pubkey': '03f8b7c160a41896cc742d1d679cb49d28c0ee76dd9a5586bd2d81c095694ad1a2',\n",
      "          'pubkeyhash': 'd53a0e041f18bdd2376dd191ad0511590caa7102',\n",
      "          'xprv': 'xprvA3TnPRTocN1LBFtg3x4aYgLWHK9KmSMf9aDjAGiFefB1A82JhVLeC2g7s9mB71AQvLQoQARHnZ56UXqpQWEn9oZXgoGcVos5c5Cpm9fbL34',\n",
      "          'xpub': 'xpub6GT8nvzhSjZdPjy99ybaupHEqLypAu5WWo9Kxf7sCzhz2vMTF2etjpzbiT7FniFd3iGeohxZVHLD9tEjYg6RcqHe2Q1cAFCr4SQH9nmsLYf'}],\n",
      " 'btc-test': [{'address': 'myuhm9XvLMaTeCDzcdtncMuk1cK53LrQSB',\n",
      "               'index': 0,\n",
      "               'path': \"m/44'/1'/0'/0/0\",\n",
      "               'privkey': 'cQ93zrQmWbxVoeCvuxBQxFisTc7nmY8fqUoGDYUBDgSDjSe9FJhR',\n",
      "               'pubkey': '02bdc01013a50f5be2a13e3b71652528fd2d85fc1dae3f77cce322e70d16d7f604',\n",
      "               'pubkeyhash': 'c9bfb3267686b3b76047dd0c3114db64a9eaf287',\n",
      "               'xprv': 'tprv8jsguaYqmxmxDTBFc6Y26UiAKrXGsRLQMJXe2pvDnBEzGNsqf5SeqDcm5r9rrjRLBytcpoB7ZRMVUNriSiVHLrVtrvyyzCaEuxoqC4ufGR2',\n",
      "               'xpub': 'tpubDGZj3zb5vLTd6vD3VkCcVtNGtt3D2kXJvc8RKLxXCT3P6s8cHUGF1iEdFyxiK4NixRue8auw936b2GBrT1FXvR88mjZwcuMmQqkfTi2WWCa'},\n",
      "              {'address': 'mqCakFBi5FUghURBMkgxEqRXGsDcaDmTig',\n",
      "               'index': 1,\n",
      "               'path': \"m/44'/1'/0'/0/1\",\n",
      "               'privkey': 'cNrPQBPZgy3FuPAc2W3aDR2uHqX56BdcRF2rcLxbqptYHkcqDsg6',\n",
      "               'pubkey': '02f72aa2bb9f61d239dc00b6be62345e3327692e48e54f7c6fb7e22d366ea5eed6',\n",
      "               'pubkeyhash': '6a37c865ff3d67d808a44def3d892b1801d73d96',\n",
      "               'xprv': 'tprv8jsguaYqmxmxFrRgHUsrkiN4czgnKx6F58XKtHCnv4Zu4MZ1bTHCFafM4WGz9QLe7sZXLSFAMYz951cH3rHUf5JyguNXPvw1iv6xPFzxx5N',\n",
      "               'xpub': 'tpubDGZj3zb5vLTd9KTUB8YTA82BC2CiVHH9eS87AoF6LLNHtqonDr6nS5HDEep3NazpeLRGxpgRUmGdmDQcbg5DEFaTJpttfg3hgTurgv6qtcd'},\n",
      "              {'address': 'myEwpRHCGxGDB1kb4AJ2rBbEmnLsMZLCG4',\n",
      "               'index': 2,\n",
      "               'path': \"m/44'/1'/0'/0/2\",\n",
      "               'privkey': 'cSPi4HpEob17uRyckaXwkiGthS8rSHZrNnGtTj8LExiKLjm6EWEL',\n",
      "               'pubkey': '033dca9d6a16681abd2c3bf26573bfaf1d9b07b95a754543c9c594d653498d7954',\n",
      "               'pubkeyhash': 'c26b36038eb141cd80445cda01d64d4e4c602e6c',\n",
      "               'xprv': 'tprv8jsguaYqmxmxHrjGy3pWXMhHS3UZgTFLa9bYqaPT9nkbBUzmT2G6CNGbUtoM2THKzVuLEEuukpDF5DmDga9Ts1AgLi8ZTnYY88X3PM5vZS2',\n",
      "               'xpub': 'tpubDGZj3zb5vLTdBKm4rhV6vmMQ14zVqnSF9TCL86Rka4Yz1yFY5R5gNrtTf34zDXdppTfSuXucpVyL5cPDARaBmWituQnjxs7Zu7XjqCKvV2j'}],\n",
      " 'eth': [{'address': '0xb4F693AAB5F13cDC5C76C196c5A1DF7F4FC020d8',\n",
      "          'index': 0,\n",
      "          'path': \"m/44'/60'/0'/0/0\",\n",
      "          'privkey': '0xf91f450b81a0c81993dbc9fff2da083f7fd48a5f7ee772f38084209b83f392bd',\n",
      "          'pubkey': '02bca62a1e03c596667e0e09cfcae87bd121e6d5f7a561055ecd53e1aae4713048',\n",
      "          'pubkeyhash': 'cb27bfaeb44a7428247ab2f39ab241b3f9094ef1',\n",
      "          'xprv': 'xprvA442e7zqCCcHZV3Zo5UTmTKKedujiUirE5NnpwWEN7mZrTaPV3UhkFTznvT3jQW8EZAS1E9e1uscLhxCLdhZMegHmqmzGmn3QCNr5VCMpgv',\n",
      "          'xpub': 'xpub6H3P3dXj2aAamy82u71U8bG4CfkE7wShbJJPdKuqvTJYjFuY2anxJ3nUeB2BUFXPeepEtub7M2RFx54LVJEKAfczahnvYoNLSUVZLXwfXpw'},\n",
      "         {'address': '0xa5302035a8D8c366F16983E5183EB96b9719f32a',\n",
      "          'index': 1,\n",
      "          'path': \"m/44'/60'/0'/0/1\",\n",
      "          'privkey': '0xd5b60e8613fb187716275ad1bda0c3d0fccb89f16ec89c0b48f3571df0eddf3c',\n",
      "          'pubkey': '03ad0071e74b54ff9f240a888ab0f6a244cc9d590832eeaa2c5578c449e64435cf',\n",
      "          'pubkeyhash': 'efbd965e21bfcb27d07d657bb59daeb08273128b',\n",
      "          'xprv': 'xprvA442e7zqCCcHdATgr5WoNYBqkrjvRS57S7kjhFMJbwUcJxiqQKE3rALQ1Vpx8WFqbWnEGvJnFQPHmj1aZdVSBckHZRbnNyo1XdtFRX4beBa',\n",
      "          'xpub': 'xpub6H3P3dXj2aAaqeY9x73ojg8aJtaQptnxoLgLVdkvAH1bBm3ywrYJPxesrnVXt4QDupPVq5nZEde168TwCChNACQSPweon7ThZ6BR7W6RgGe'},\n",
      "         {'address': '0xA7DE1c6B6bF880f3477FDc5380DAE382eadaDC71',\n",
      "          'index': 2,\n",
      "          'path': \"m/44'/60'/0'/0/2\",\n",
      "          'privkey': '0x63418e1190d4354acd3c570b2b21607336f13efea49c3770fc94e91665f37aca',\n",
      "          'pubkey': '02a119e6e1b4e0ff1546d3473f6ec7fedf58003c7e7fe29e9ce05647582323dc49',\n",
      "          'pubkeyhash': 'cf3e60fec62fadaf97ed4e33f4ab21e394b4638a',\n",
      "          'xprv': 'xprvA442e7zqCCcHfSDg2HV5Emu2sxyCVem4kse91UqCbMEGLcUNao6NaWYbDu2V3YEtFkTDra2ErU6rRmhLhusdePUoVemkv27mvvGGzx22tgh',\n",
      "          'xpub': 'xpub6H3P3dXj2aAasvJ98K25buqmRzogu7Uv86ZjosEp9gmFDQoX8LQd8Js55AXVEgyunKvoXGRzqRhM4Qmn5qW7LpJ7DPTMVnwLnKg7RagjVsN'}]}\n"
     ]
    }
   ],
   "source": [
    "pprint(coins)"
   ]
  },
  {
   "cell_type": "code",
   "execution_count": null,
   "id": "def99256-7e96-4873-9c6e-3f85154ec144",
   "metadata": {},
   "outputs": [],
   "source": []
  }
 ],
 "metadata": {
  "kernelspec": {
   "display_name": "Python [conda env:ethereum]",
   "language": "python",
   "name": "conda-env-ethereum-py"
  },
  "language_info": {
   "codemirror_mode": {
    "name": "ipython",
    "version": 3
   },
   "file_extension": ".py",
   "mimetype": "text/x-python",
   "name": "python",
   "nbconvert_exporter": "python",
   "pygments_lexer": "ipython3",
   "version": "3.7.10"
  }
 },
 "nbformat": 4,
 "nbformat_minor": 5
}
